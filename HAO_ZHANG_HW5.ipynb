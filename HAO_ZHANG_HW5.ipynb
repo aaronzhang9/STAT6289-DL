{
  "nbformat": 4,
  "nbformat_minor": 0,
  "metadata": {
    "colab": {
      "name": "HAO ZHANG HW5.ipynb",
      "provenance": []
    },
    "kernelspec": {
      "display_name": "Python 3",
      "language": "python",
      "name": "python3"
    },
    "language_info": {
      "codemirror_mode": {
        "name": "ipython",
        "version": 3
      },
      "file_extension": ".py",
      "mimetype": "text/x-python",
      "name": "python",
      "nbconvert_exporter": "python",
      "pygments_lexer": "ipython3",
      "version": "3.7.6"
    }
  },
  "cells": [
    {
      "cell_type": "code",
      "metadata": {
        "id": "g0Yt-XoXLaam"
      },
      "source": [
        "from pymagnitude import *\n",
        "file_path = \"GoogleNews-vectors-negative300.magnitude\"\n",
        "vectors = Magnitude(file_path)"
      ],
      "execution_count": null,
      "outputs": []
    },
    {
      "cell_type": "code",
      "metadata": {
        "id": "W0QmOWapLaan",
        "outputId": "92390441-9f20-4036-bf4f-e2ba493112be"
      },
      "source": [
        "vectors.distance(\"cat\", \"dog\")"
      ],
      "execution_count": null,
      "outputs": [
        {
          "output_type": "execute_result",
          "data": {
            "text/plain": [
              "0.69145405"
            ]
          },
          "metadata": {
            "tags": []
          },
          "execution_count": 6
        }
      ]
    },
    {
      "cell_type": "markdown",
      "metadata": {
        "id": "lBFT-LJ0NpU1"
      },
      "source": [
        "1. What is the dimensionality of these word embeddings? Provide an integer answer."
      ]
    },
    {
      "cell_type": "code",
      "metadata": {
        "id": "O5pTNcBMLaaq",
        "outputId": "ee7c11ce-87bd-483d-9d46-a59f17f7b1d5"
      },
      "source": [
        "vectors.dim"
      ],
      "execution_count": null,
      "outputs": [
        {
          "output_type": "execute_result",
          "data": {
            "text/plain": [
              "300"
            ]
          },
          "metadata": {
            "tags": []
          },
          "execution_count": 5
        }
      ]
    },
    {
      "cell_type": "markdown",
      "metadata": {
        "id": "2M-t00aCOEae"
      },
      "source": [
        "2. What are the top-5 most similar words to picnic (not including picnic itself)?"
      ]
    },
    {
      "cell_type": "code",
      "metadata": {
        "id": "Njnoa7V9Laaq",
        "outputId": "4e0405cf-4cb6-4b7c-91c9-085ef1ac9b6a"
      },
      "source": [
        "vectors.most_similar(\"picnic\", topn = 5) # Most similar by key"
      ],
      "execution_count": null,
      "outputs": [
        {
          "output_type": "execute_result",
          "data": {
            "text/plain": [
              "[('picnics', 0.7400875),\n",
              " ('picnic_lunch', 0.721374),\n",
              " ('Picnic', 0.700534),\n",
              " ('potluck_picnic', 0.6683274),\n",
              " ('picnic_supper', 0.65189123)]"
            ]
          },
          "metadata": {
            "tags": []
          },
          "execution_count": 4
        }
      ]
    },
    {
      "cell_type": "markdown",
      "metadata": {
        "id": "FnXkQn07TJ31"
      },
      "source": [
        "picnics, picnic_lunch, Picnic,potluck_picnic, picnic_supper(I think 'Picnic' and 'picnic' are different)"
      ]
    },
    {
      "cell_type": "markdown",
      "metadata": {
        "id": "cSmtiZQ8b0S2"
      },
      "source": [
        "visualization result:"
      ]
    },
    {
      "cell_type": "code",
      "metadata": {
        "colab": {
          "base_uri": "https://localhost:8080/",
          "height": 266
        },
        "id": "36JVPKnnbeya",
        "outputId": "8d3f8f4e-d623-4ea3-ae1a-47ba172c0f3e"
      },
      "source": [
        "import matplotlib.pyplot as plt\n",
        "name_list=['picnics','picnic_lunch','Picnic','potluck_picnic','picnic_supper']\n",
        "num_list=[0.7400875,0.721374,0.700534,0.6683274,0.65189123]\n",
        "plt.bar(range(len(num_list)),num_list,tick_label=name_list)\n",
        "plt.show()"
      ],
      "execution_count": null,
      "outputs": [
        {
          "output_type": "display_data",
          "data": {
            "image/png": "[encoded data removed]",
            "text/plain": [
              "<Figure size 432x288 with 1 Axes>"
            ]
          },
          "metadata": {
            "tags": []
          }
        }
      ]
    },
    {
      "cell_type": "code",
      "metadata": {
        "id": "zm--XK00Laaq",
        "outputId": "4aef3884-1abe-42ca-ffa6-a80ec9201723"
      },
      "source": [
        "vectors.most_similar(vectors.query(\"picnic\"), topn = 5) # Most similar by vector\n"
      ],
      "execution_count": null,
      "outputs": [
        {
          "output_type": "execute_result",
          "data": {
            "text/plain": [
              "[('picnic', 0.9999998),\n",
              " ('picnics', 0.7400875),\n",
              " ('picnic_lunch', 0.721374),\n",
              " ('Picnic', 0.700534),\n",
              " ('potluck_picnic', 0.6683274)]"
            ]
          },
          "metadata": {
            "tags": []
          },
          "execution_count": 10
        }
      ]
    },
    {
      "cell_type": "markdown",
      "metadata": {
        "id": "lcKU50H0Olu9"
      },
      "source": [
        "3. According to the word embeddings, which of these words is not like the others? ['tissue', 'papyrus',\n",
        "'manila', 'newsprint', 'parchment', 'gazette']"
      ]
    },
    {
      "cell_type": "code",
      "metadata": {
        "id": "Nrh-9NuaLaar",
        "outputId": "cd6264ac-5793-4eb8-9331-ce9c76a64cfe"
      },
      "source": [
        "vectors.doesnt_match(['tissue', 'papyrus', 'manila', 'newsprint', 'parchment', 'gazette'])"
      ],
      "execution_count": null,
      "outputs": [
        {
          "output_type": "execute_result",
          "data": {
            "text/plain": [
              "'tissue'"
            ]
          },
          "metadata": {
            "tags": []
          },
          "execution_count": 11
        }
      ]
    },
    {
      "cell_type": "markdown",
      "metadata": {
        "id": "-_NsCA1bT5cL"
      },
      "source": [
        "'tissue' is not like the others."
      ]
    },
    {
      "cell_type": "markdown",
      "metadata": {
        "id": "NucrvKtGPQrv"
      },
      "source": [
        "4. Solve the following analogy: leg is to jump as X is to throw"
      ]
    },
    {
      "cell_type": "code",
      "metadata": {
        "colab": {
          "base_uri": "https://localhost:8080/"
        },
        "id": "4Mk7aTiTm1NJ",
        "outputId": "d8c1e5f8-1204-4474-ebcd-1f3a97e022fc"
      },
      "source": [
        "vectors.most_similar(positive = [\"throw\", \"leg\"], negative = [\"jump\"]) "
      ],
      "execution_count": null,
      "outputs": [
        {
          "output_type": "execute_result",
          "data": {
            "text/plain": [
              "[('forearm', 0.48294652),\n",
              " ('shin', 0.47376165),\n",
              " ('elbow', 0.4679689),\n",
              " ('metacarpal_bone', 0.46781474),\n",
              " ('metacarpal_bones', 0.46605822),\n",
              " ('ankle', 0.46434426),\n",
              " ('shoulder', 0.46183354),\n",
              " ('thigh', 0.45393682),\n",
              " ('knee', 0.4455707),\n",
              " ('ulna_bone', 0.4423491)]"
            ]
          },
          "metadata": {
            "tags": []
          },
          "execution_count": 16
        }
      ]
    },
    {
      "cell_type": "markdown",
      "metadata": {
        "id": "8By3_Xy4ydZe"
      },
      "source": [
        "X is forearm."
      ]
    }
  ]
}